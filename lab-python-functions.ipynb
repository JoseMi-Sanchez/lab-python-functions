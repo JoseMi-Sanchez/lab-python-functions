{
 "cells": [
  {
   "cell_type": "markdown",
   "id": "25d7736c-ba17-4aff-b6bb-66eba20fbf4e",
   "metadata": {},
   "source": [
    "# Lab | Functions"
   ]
  },
  {
   "cell_type": "markdown",
   "id": "0c581062-8967-4d93-b06e-62833222f930",
   "metadata": {
    "tags": []
   },
   "source": [
    "## Exercise: Managing Customer Orders with Functions\n",
    "\n",
    "In the previous exercise, you improved the code for managing customer orders by using loops and flow control. Now, let's take it a step further and refactor the code by introducing functions.\n",
    "\n",
    "Follow the steps below to complete the exercise:\n",
    "\n",
    "1. Define a function named `initialize_inventory` that takes `products` as a parameter. Inside the function, implement the code for initializing the inventory dictionary using a loop and user input.\n",
    "\n",
    "2. Define a function named `get_customer_orders` that takes no parameters. Inside the function, implement the code for prompting the user to enter the product names using a loop. The function should return the `customer_orders` set.\n",
    "\n",
    "3. Define a function named `update_inventory` that takes `customer_orders` and `inventory` as parameters. Inside the function, implement the code for updating the inventory dictionary based on the customer orders.\n",
    "\n",
    "4. Define a function named `calculate_order_statistics` that takes `customer_orders` and `products` as parameters. Inside the function, implement the code for calculating the order statistics (total products ordered, and percentage of unique products ordered). The function should return these values.\n",
    "\n",
    "5. Define a function named `print_order_statistics` that takes `order_statistics` as a parameter. Inside the function, implement the code for printing the order statistics.\n",
    "\n",
    "6. Define a function named `print_updated_inventory` that takes `inventory` as a parameter. Inside the function, implement the code for printing the updated inventory.\n",
    "\n",
    "7. Call the functions in the appropriate sequence to execute the program and manage customer orders.\n",
    "\n",
    "Hints for functions:\n",
    "\n",
    "- Consider the input parameters required for each function and their return values.\n",
    "- Utilize function parameters and return values to transfer data between functions.\n",
    "- Test your functions individually to ensure they work correctly.\n",
    "\n",
    "\n"
   ]
  },
  {
   "cell_type": "code",
   "execution_count": 42,
   "id": "e6fd2f37",
   "metadata": {},
   "outputs": [],
   "source": [
    "# Paso 1\n",
    "\n",
    "products = [\"t-shirt\", \"mug\", \"hat\", \"book\", \"keychain\"]\n",
    "\n",
    "def initialize_inventory(products):\n",
    "    inventory = {}\n",
    "    for product in products:\n",
    "        cantidad = int(input(f\"Introduce la cantidad de {product} disponible:\"))\n",
    "        inventory[product] = cantidad\n",
    "    return inventory"
   ]
  },
  {
   "cell_type": "code",
   "execution_count": 43,
   "id": "eed38323",
   "metadata": {},
   "outputs": [],
   "source": [
    "# Paso 2\n",
    "\n",
    "def get_customer_orders():\n",
    "    customer_orders = set()\n",
    "    añadir_producto = \"yes\"\n",
    "    while añadir_producto == \"yes\":\n",
    "        nombre_producto = input(\"Introduce el nombre del producto que quiere pedir el cliente:\")\n",
    "        customer_orders.add(nombre_producto)\n",
    "        añadir_producto = input(\"¿Quieres seguir añadiendo productos (yes/no)?\")\n",
    "    return customer_orders\n"
   ]
  },
  {
   "cell_type": "code",
   "execution_count": 44,
   "id": "f5cd66b7",
   "metadata": {},
   "outputs": [],
   "source": [
    "# Paso 3\n",
    "\n",
    "def update_inventory(customer_orders, inventory):\n",
    "    for product in customer_orders:\n",
    "        if product in inventory:\n",
    "            inventory[product] -= 1\n",
    "    return inventory"
   ]
  },
  {
   "cell_type": "code",
   "execution_count": 45,
   "id": "d7f22a54",
   "metadata": {},
   "outputs": [],
   "source": [
    "# Paso 4\n",
    "\n",
    "def calculate_order_statistics(customer_orders, products):\n",
    "    total_products_ordered = len(customer_orders)\n",
    "    percentage_ordered = len(customer_orders) / len(products) * 100\n",
    "    return total_products_ordered, percentage_ordered"
   ]
  },
  {
   "cell_type": "code",
   "execution_count": 46,
   "id": "ec8b756d",
   "metadata": {},
   "outputs": [],
   "source": [
    "# Paso 5\n",
    "\n",
    "def print_order_statistics(order_statistics):\n",
    "    print(\"Total de productos pedidos:\")\n",
    "    print(order_statistics[0])\n",
    "    print(\"Porcentaje de productos únicos pedidos:\")\n",
    "    print(order_statistics[1])"
   ]
  },
  {
   "cell_type": "code",
   "execution_count": 47,
   "id": "d378e416",
   "metadata": {},
   "outputs": [],
   "source": [
    "# Paso 6\n",
    "\n",
    "def print_uptated_inventory(inventory):\n",
    "    print(\"Inventario actualizado:\")\n",
    "    for product, cantidad in inventory.items():\n",
    "        print(f\"{product}, {cantidad}\")"
   ]
  },
  {
   "cell_type": "code",
   "execution_count": 48,
   "id": "c85eb115",
   "metadata": {},
   "outputs": [
    {
     "name": "stdout",
     "output_type": "stream",
     "text": [
      "Total de productos pedidos:\n",
      "3\n",
      "Porcentaje de productos únicos pedidos:\n",
      "60.0\n",
      "Inventario actualizado:\n",
      "t-shirt, 8\n",
      "mug, 6\n",
      "hat, 5\n",
      "book, 4\n",
      "keychain, 4\n"
     ]
    }
   ],
   "source": [
    "# Paso 7\n",
    "\n",
    "inventory = initialize_inventory(products)\n",
    "customer_orders = get_customer_orders()\n",
    "inventory = update_inventory(customer_orders, inventory)\n",
    "statistics = calculate_order_statistics(customer_orders, products)\n",
    "order_statistics = calculate_order_statistics(customer_orders, products)\n",
    "print_order_statistics(order_statistics)\n",
    "print_uptated_inventory(inventory)\n",
    "\n"
   ]
  }
 ],
 "metadata": {
  "kernelspec": {
   "display_name": "Python 3 (ipykernel)",
   "language": "python",
   "name": "python3"
  },
  "language_info": {
   "codemirror_mode": {
    "name": "ipython",
    "version": 3
   },
   "file_extension": ".py",
   "mimetype": "text/x-python",
   "name": "python",
   "nbconvert_exporter": "python",
   "pygments_lexer": "ipython3",
   "version": "3.9.6"
  }
 },
 "nbformat": 4,
 "nbformat_minor": 5
}
